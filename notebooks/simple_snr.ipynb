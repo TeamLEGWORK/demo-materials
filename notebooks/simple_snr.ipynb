{
 "cells": [
  {
   "cell_type": "markdown",
   "metadata": {},
   "source": [
    "# Simple calculations\n",
    "Use LEGWORK to do a simple SNR and merger time calculation for a single source"
   ]
  },
  {
   "cell_type": "code",
   "execution_count": 21,
   "metadata": {},
   "outputs": [],
   "source": [
    "import legwork as lw\n",
    "import astropy.units as u\n",
    "from ipywidgets import interact, FloatSlider"
   ]
  },
  {
   "cell_type": "code",
   "execution_count": 34,
   "metadata": {},
   "outputs": [],
   "source": [
    "def print_info(m_1, m_2, dist, log_f_orb, ecc):\n",
    "    \"\"\"A simple function to print the SNR and merger time of a single source\"\"\"\n",
    "    source = lw.source.Source(m_1=m_1*u.Msun, m_2=m_2*u.Msun, dist=dist*u.kpc,\n",
    "                              f_orb=10**log_f_orb*u.Hz, ecc=ecc,\n",
    "                              interpolate_g=False)\n",
    "    source.get_snr()\n",
    "    source.get_merger_time()\n",
    "    print(f\"SNR: {source.snr[0]:.2e}, Merger Time: {source.t_merge[0].to(u.Myr):.2e}\")"
   ]
  },
  {
   "cell_type": "code",
   "execution_count": 35,
   "metadata": {},
   "outputs": [
    {
     "data": {
      "application/vnd.jupyter.widget-view+json": {
       "model_id": "d2a87ce9c33746b2a0f16ae35d9a713b",
       "version_major": 2,
       "version_minor": 0
      },
      "text/plain": [
       "interactive(children=(FloatSlider(value=10.0, description='m_1', max=50.0), FloatSlider(value=10.0, descriptio…"
      ]
     },
     "metadata": {},
     "output_type": "display_data"
    }
   ],
   "source": [
    "interact(print_info,\n",
    "         m_1=FloatSlider(min=0.0, max=50, step=0.1, value=10),\n",
    "         m_2=FloatSlider(min=0.0, max=50, step=0.1, value=10),\n",
    "         dist=FloatSlider(min=0.0, max=100, step=0.1, value=8),\n",
    "         log_f_orb=FloatSlider(min=-6, max=0, step=0.1, value=-4),\n",
    "         ecc=FloatSlider(min=0, max=0.99, step=0.01, value=0.1, continuous_update=False));"
   ]
  },
  {
   "cell_type": "code",
   "execution_count": 38,
   "metadata": {},
   "outputs": [
    {
     "name": "stdout",
     "output_type": "stream",
     "text": [
      "SNR: 3.22e+00, Merger Time: 3.88e+00 Myr\n"
     ]
    }
   ],
   "source": [
    "print_info(m_1=10, m_2=10, dist=8, log_f_orb=-4, ecc=0.1)"
   ]
  },
  {
   "cell_type": "code",
   "execution_count": null,
   "metadata": {},
   "outputs": [],
   "source": []
  }
 ],
 "metadata": {
  "kernelspec": {
   "display_name": "legwork-new",
   "language": "python",
   "name": "python3"
  },
  "language_info": {
   "codemirror_mode": {
    "name": "ipython",
    "version": 3
   },
   "file_extension": ".py",
   "mimetype": "text/x-python",
   "name": "python",
   "nbconvert_exporter": "python",
   "pygments_lexer": "ipython3",
   "version": "3.1.undefined"
  }
 },
 "nbformat": 4,
 "nbformat_minor": 2
}
